{
 "cells": [
  {
   "cell_type": "code",
   "execution_count": 3,
   "metadata": {},
   "outputs": [],
   "source": [
    "import numpy as np\n",
    "import matplotlib.pyplot as plt"
   ]
  },
  {
   "cell_type": "code",
   "execution_count": null,
   "metadata": {},
   "outputs": [],
   "source": [
    "# temps en seconde\n",
    "T = 2 # seconde\n",
    "fs = 44100 # Hertz / frequency sampling / nb échantillons par seconde\n",
    "\n",
    "t = np.arange(T*fs)/fs\n",
    "# t = np.arange(0, T, 1/fs)\n",
    "t[-1]\n",
    "y = np.sin(t)\n",
    "\n",
    "plt.plot(t, y)"
   ]
  },
  {
   "cell_type": "code",
   "execution_count": null,
   "metadata": {},
   "outputs": [],
   "source": []
  },
  {
   "cell_type": "markdown",
   "metadata": {},
   "source": [
    "Théorème de Shanon :\n",
    "    La fréquence maximum d'un signal doit être inférieur à la moitié de la fréquence d'échantillonage !\n",
    "    ex: le CD a une fs = 44100 Hz ce qui implique que la fréquence maximum du signal (d'un CD) est 22050 Hz."
   ]
  },
  {
   "cell_type": "code",
   "execution_count": null,
   "metadata": {},
   "outputs": [],
   "source": [
    "freq = 15000 # < 22050\n",
    "y = np.sin(2*np.pi*freq*t)\n",
    "\n",
    "plt.plot(t, y)\n",
    "plt.plot(t, y, \"or\")\n",
    "plt.xlim(0, 0.005)\n",
    "\n"
   ]
  }
 ],
 "metadata": {
  "kernelspec": {
   "display_name": "base",
   "language": "python",
   "name": "python3"
  },
  "language_info": {
   "codemirror_mode": {
    "name": "ipython",
    "version": 3
   },
   "file_extension": ".py",
   "mimetype": "text/x-python",
   "name": "python",
   "nbconvert_exporter": "python",
   "pygments_lexer": "ipython3",
   "version": "3.12.4"
  }
 },
 "nbformat": 4,
 "nbformat_minor": 2
}
