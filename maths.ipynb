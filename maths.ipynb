{
 "cells": [
  {
   "cell_type": "code",
   "execution_count": 79,
   "metadata": {},
   "outputs": [],
   "source": [
    "import numpy as np\n",
    "import matplotlib.pyplot as plt"
   ]
  },
  {
   "cell_type": "code",
   "execution_count": null,
   "metadata": {},
   "outputs": [],
   "source": [
    "# temps en seconde\n",
    "T = 2 # seconde\n",
    "fs = 44100 # Hertz / frequency sampling / nb échantillons par seconde\n",
    "\n",
    "t = np.arange(T*fs)/fs\n",
    "# t = np.arange(0, T, 1/fs)\n",
    "t[-1]\n",
    "# y = np.sin(t)\n",
    "# plt.plot(t, y)"
   ]
  },
  {
   "cell_type": "code",
   "execution_count": null,
   "metadata": {},
   "outputs": [],
   "source": [
    "freq = 150\n",
    "y = np.sin(2*np.pi*freq*t)\n",
    "\n",
    "plt.plot(t,y)\n",
    "plt.xlim((0,0.1))"
   ]
  },
  {
   "cell_type": "markdown",
   "metadata": {},
   "source": [
    "Théorème de Shanon :\n",
    "    La fréquence maximum d'un signal doit être inférieur à la moitié de la fréquence d'échantillonage !\n",
    "    ex: le CD a une fs = 44100 Hz ce qui implique que la fréquence maximum du signal (d'un CD) est 22050 Hz."
   ]
  },
  {
   "cell_type": "code",
   "execution_count": null,
   "metadata": {},
   "outputs": [],
   "source": [
    "freq = 15000 # < 22050\n",
    "y = np.sin(2*np.pi*freq*t)\n",
    "\n",
    "plt.plot(t, y)\n",
    "plt.plot(t, y, \"or\")\n",
    "plt.xlim(0, 0.005)"
   ]
  },
  {
   "cell_type": "code",
   "execution_count": null,
   "metadata": {},
   "outputs": [],
   "source": [
    "fig, (ax1, ax2) = plt.subplots(nrows=2, sharex=True)\n",
    "ax1.plot(t, y)\n",
    "ax1.set_ylabel('Signal')\n",
    "\n",
    "pltPxx, freqs, bins, im = ax2.specgram(y, Fs=fs)\n",
    "# The `specgram` method returns 4 objects. They are:\n",
    "# - Pxx: the periodogram\n",
    "# - freqs: the frequency vector\n",
    "# - bins: the centers of the time bins\n",
    "# - im: the .image.AxesImage instance representing the data in the plot\n",
    "ax2.set_xlabel('Time (s)')\n",
    "ax2.set_ylabel('Frequency (Hz)')\n",
    "ax2.set_xlim(0, 20)\n",
    "\n",
    "plt.show()"
   ]
  },
  {
   "cell_type": "code",
   "execution_count": null,
   "metadata": {},
   "outputs": [],
   "source": [
    "shape = (600, 400)\n",
    "dtype = int\n",
    "array_vide = np.zeros(shape, dtype=dtype)\n",
    "\n",
    "array_vide.shape"
   ]
  },
  {
   "cell_type": "code",
   "execution_count": null,
   "metadata": {},
   "outputs": [],
   "source": [
    "# sum total\n",
    "sumarray = array_vide.sum()\n",
    "sumarray.shape\n",
    "\n",
    "sumarray1D = array_vide.sum(axis=0)\n",
    "sumarray1D.shape\n",
    "\n",
    "sumarray2D = array_vide.sum(axis=1)\n",
    "sumarray2D.shape"
   ]
  },
  {
   "cell_type": "code",
   "execution_count": null,
   "metadata": {},
   "outputs": [],
   "source": [
    "array_vide[0][1] # [0] = ligne, [1] = colonne"
   ]
  },
  {
   "cell_type": "code",
   "execution_count": 87,
   "metadata": {},
   "outputs": [],
   "source": [
    "img_rgb_shape = (600, 400, 3)"
   ]
  },
  {
   "cell_type": "code",
   "execution_count": null,
   "metadata": {},
   "outputs": [],
   "source": [
    "array_vide[0:4, 1:3]\n",
    "# de la ligne 0 à la ligne 3\n",
    "# de la colonne 1 à la colonne 2"
   ]
  },
  {
   "cell_type": "code",
   "execution_count": null,
   "metadata": {},
   "outputs": [],
   "source": [
    "array_ones = np.ones(shape, dtype=dtype)\n",
    "array_ones\n",
    "small = array_ones[1:3, 0]\n",
    "small"
   ]
  },
  {
   "cell_type": "code",
   "execution_count": null,
   "metadata": {},
   "outputs": [],
   "source": [
    "small*2"
   ]
  },
  {
   "cell_type": "code",
   "execution_count": null,
   "metadata": {},
   "outputs": [],
   "source": [
    "# produit matriciel np.dot(a, b)\n",
    "np.ones((1, 3))*np.ones((2, 1))\n",
    "# aussi :\n",
    "np.array([1, 2, 3])*np.ones((2, 1))"
   ]
  },
  {
   "cell_type": "code",
   "execution_count": null,
   "metadata": {},
   "outputs": [],
   "source": [
    "# transformation d'une liste en array\n",
    "x = np.array([1, 2, 3, 2, 1], dtype = float)\n",
    "np.unique(x)"
   ]
  },
  {
   "cell_type": "code",
   "execution_count": null,
   "metadata": {},
   "outputs": [],
   "source": [
    "np.sort(x)"
   ]
  },
  {
   "cell_type": "code",
   "execution_count": null,
   "metadata": {},
   "outputs": [],
   "source": [
    "x**2"
   ]
  },
  {
   "cell_type": "code",
   "execution_count": null,
   "metadata": {},
   "outputs": [],
   "source": [
    "1/x"
   ]
  },
  {
   "cell_type": "code",
   "execution_count": null,
   "metadata": {},
   "outputs": [],
   "source": [
    "plt.figure(figsize=(12,4))\n",
    "\n",
    "s = np.arange(80)\n",
    "x1D = np.random.randn(80)\n",
    "x2D = np.random.randn(80, 120)\n",
    "\n",
    "plt.plot(s, x1D, color = [0, 1, 1], lw = 30, alpha = 0.15, label = \"gros\")\n",
    "plt.plot(s, x1D, \"--k\", label = \"tirets noir\") # tirets\n",
    "plt.plot(s, x1D, \":r\", label = \"pointillets rouge\")  # pointillet\n",
    "plt.plot(s, x1D, \"oc\", label = \"gros rond\")  # gros rond\n",
    "plt.plot(s, x1D, \"dy\", label = \"diamant\")  # diamant\n",
    "plt.plot(s, x1D, \".m\", label = \"point magenta\")  # points magenta\n",
    "\n",
    "plt.legend(loc = \"upper left\")\n",
    "\n",
    "plt.grid()\n"
   ]
  },
  {
   "cell_type": "code",
   "execution_count": null,
   "metadata": {},
   "outputs": [],
   "source": [
    "plt.figure(figsize=(12,4))\n",
    "\n",
    "s = np.arange(80)\n",
    "x1D = np.random.randn(80)\n",
    "\n",
    "# 2 lignes 3 colonnes on plot sur le 1er\n",
    "# nb lignes, nb colonnes, position\n",
    "plt.subplot(2, 3, 1)\n",
    "plt.plot(x1D)\n",
    "\n",
    "plt.subplot(2, 3, 4)\n",
    "plt.plot(x1D/2)\n",
    "\n",
    "plt.subplot(1, 3, 2)\n",
    "plt.plot(x1D/2)\n",
    "\n",
    "plt.subplot(2, 3, 3)\n",
    "plt.plot(x1D)\n",
    "\n",
    "plt.subplot(2, 3, 6)\n",
    "plt.plot(x1D/2)\n",
    "\n",
    "plt.savefig(\"img.png\")"
   ]
  },
  {
   "cell_type": "code",
   "execution_count": null,
   "metadata": {},
   "outputs": [],
   "source": [
    "plt.figure(figsize=(12,4))\n",
    "\n",
    "s = np.arange(80)\n",
    "x1D = np.random.randn(80)\n",
    "\n",
    "# 2 lignes 3 colonnes, on plot sur le 1er\n",
    "# nb de lignes, nb de colonnes, position\n",
    "ax1 = plt.subplot(2,3,1)\n",
    "ax1.plot(x1D)"
   ]
  },
  {
   "cell_type": "code",
   "execution_count": null,
   "metadata": {},
   "outputs": [],
   "source": [
    "plt.close(\"all\")\n",
    "plt.plot(np.random.rand(30))\n",
    "plt.show()"
   ]
  },
  {
   "cell_type": "code",
   "execution_count": null,
   "metadata": {},
   "outputs": [],
   "source": [
    "arr = np.random.randn(5, 5)\n",
    "arr > 0\n",
    "\n",
    "arr[arr>0] = 2\n",
    "arr\n",
    "\n",
    "arr[arr<0] = -2\n",
    "arr\n",
    "\n",
    "arr = np.random.randn(5, 5)\n",
    "(arr > -0.5)*(arr < 0.5)"
   ]
  }
 ],
 "metadata": {
  "kernelspec": {
   "display_name": "base",
   "language": "python",
   "name": "python3"
  },
  "language_info": {
   "codemirror_mode": {
    "name": "ipython",
    "version": 3
   },
   "file_extension": ".py",
   "mimetype": "text/x-python",
   "name": "python",
   "nbconvert_exporter": "python",
   "pygments_lexer": "ipython3",
   "version": "3.12.4"
  }
 },
 "nbformat": 4,
 "nbformat_minor": 2
}
