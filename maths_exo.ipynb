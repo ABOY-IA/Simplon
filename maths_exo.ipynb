{
 "cells": [
  {
   "cell_type": "markdown",
   "metadata": {},
   "source": [
    "# Exos :"
   ]
  },
  {
   "cell_type": "markdown",
   "metadata": {},
   "source": [
    "### Partie Numpy"
   ]
  },
  {
   "cell_type": "code",
   "execution_count": 99,
   "metadata": {},
   "outputs": [],
   "source": [
    "import numpy as np\n",
    "import matplotlib.pyplot as plt"
   ]
  },
  {
   "cell_type": "code",
   "execution_count": 100,
   "metadata": {},
   "outputs": [
    {
     "data": {
      "text/plain": [
       "array([ 1,  2,  3,  4,  5,  6,  7,  8,  9, 10])"
      ]
     },
     "execution_count": 100,
     "metadata": {},
     "output_type": "execute_result"
    }
   ],
   "source": [
    "# 1.\n",
    "\n",
    "#array_int = np.array(range(1, 11)) # fonctionne mais à améliorer\n",
    "array_int = np.arange(1, 11)\n",
    "array_int"
   ]
  },
  {
   "cell_type": "code",
   "execution_count": 101,
   "metadata": {},
   "outputs": [
    {
     "data": {
      "text/plain": [
       "array([0.63133243, 0.86486002, 0.40786628, 0.85557567, 0.1713253 ])"
      ]
     },
     "execution_count": 101,
     "metadata": {},
     "output_type": "execute_result"
    }
   ],
   "source": [
    "# 2.\n",
    "\n",
    "arr = np.random.rand(5)\n",
    "arr"
   ]
  },
  {
   "cell_type": "code",
   "execution_count": 102,
   "metadata": {},
   "outputs": [
    {
     "name": "stdout",
     "output_type": "stream",
     "text": [
      "[-0.34860296  1.4634334  -0.86955037 -1.82303871 -0.71733781 -1.09569354\n",
      " -1.4357297  -1.43080839 -1.37598937  0.66343061]\n"
     ]
    },
    {
     "data": {
      "text/plain": [
       "-6.969886828920126"
      ]
     },
     "execution_count": 102,
     "metadata": {},
     "output_type": "execute_result"
    }
   ],
   "source": [
    "# 3.\n",
    "\n",
    "arr = np.random.randn(10)\n",
    "print(arr)\n",
    "\n",
    "def sum_array(arr):\n",
    "    sumarray = arr.sum()\n",
    "    return sumarray\n",
    "sum_array(arr)"
   ]
  },
  {
   "cell_type": "code",
   "execution_count": 103,
   "metadata": {},
   "outputs": [
    {
     "data": {
      "text/plain": [
       "3.4193296418291013"
      ]
     },
     "execution_count": 103,
     "metadata": {},
     "output_type": "execute_result"
    }
   ],
   "source": [
    "# 4.\n",
    "\n",
    "arr1 = np.random.randn(10)\n",
    "arr2 = np.random.randn(10)\n",
    "def arr_dot(arr1, arr2):\n",
    "    arr_scal = np.dot(arr1, arr2)\n",
    "    return arr_scal\n",
    "arr_dot(arr1, arr2)\n"
   ]
  },
  {
   "cell_type": "code",
   "execution_count": 104,
   "metadata": {},
   "outputs": [
    {
     "data": {
      "text/plain": [
       "array([ 1,  2,  3,  5, 12, 25])"
      ]
     },
     "execution_count": 104,
     "metadata": {},
     "output_type": "execute_result"
    }
   ],
   "source": [
    "# 5.\n",
    "\n",
    "arr3 = np.array([1, 2, 3, 2, 3, 5, 1, 12, 25])\n",
    "def arr_unique(arr):\n",
    "    arruni = np.unique(arr)\n",
    "    return arruni\n",
    "arr_unique(arr3)"
   ]
  },
  {
   "cell_type": "code",
   "execution_count": 105,
   "metadata": {},
   "outputs": [
    {
     "data": {
      "text/plain": [
       "array([-1.81569816, -1.28372344, -1.11896981, -1.02303971, -0.15813726,\n",
       "        0.23363471,  0.78013648,  1.29051363,  1.80742801,  1.92536017])"
      ]
     },
     "execution_count": 105,
     "metadata": {},
     "output_type": "execute_result"
    }
   ],
   "source": [
    "# 6.\n",
    "\n",
    "arr4 = np.random.randn(10)\n",
    "def arr_incr(arr):\n",
    "    arrincr = np.sort(arr)\n",
    "    return arrincr\n",
    "arr_incr(arr4)"
   ]
  },
  {
   "cell_type": "code",
   "execution_count": 106,
   "metadata": {},
   "outputs": [
    {
     "data": {
      "text/plain": [
       "(0.21249053550683122, 0.42107394361763717, 1.0062178043614887)"
      ]
     },
     "execution_count": 106,
     "metadata": {},
     "output_type": "execute_result"
    }
   ],
   "source": [
    "# 7.\n",
    "\n",
    "arr5 = np.random.randn(10)\n",
    "def arr_stats(arr):\n",
    "    arrmean = np.mean(arr)\n",
    "    arrmed = np.median(arr)\n",
    "    arrsd = np.std(arr)\n",
    "    return arrmean, arrmed, arrsd\n",
    "arr_stats(arr5)"
   ]
  },
  {
   "cell_type": "code",
   "execution_count": 107,
   "metadata": {},
   "outputs": [
    {
     "data": {
      "text/plain": [
       "array([0, 0, 0, 0, 0, 0, 0, 0, 0, 0, 0, 0, 0, 0, 0, 0, 0, 0, 0, 0, 0, 1,\n",
       "       1, 1, 1, 1, 1, 1, 1, 1, 1, 1])"
      ]
     },
     "execution_count": 107,
     "metadata": {},
     "output_type": "execute_result"
    }
   ],
   "source": [
    "# 8.\n",
    "\n",
    "arr6 = np.arange(-16, 16)\n",
    "def arr_replace(arr):\n",
    "    arr[arr < 5] = 0\n",
    "    arr[arr >= 5] = 1\n",
    "    return arr\n",
    "arr_replace(arr6)\n"
   ]
  },
  {
   "cell_type": "code",
   "execution_count": 108,
   "metadata": {},
   "outputs": [
    {
     "data": {
      "text/plain": [
       "array([ 2,  3,  5,  7, 11, 13, 17, 19])"
      ]
     },
     "execution_count": 108,
     "metadata": {},
     "output_type": "execute_result"
    }
   ],
   "source": [
    "# 9.\n",
    "\n",
    "from sympy import isprime\n",
    "arr7 = np.arange(1, 20)\n",
    "def arr_primenum(arr):\n",
    "    arrprimenb = np.array([x for x in arr if isprime(x)])\n",
    "    return arrprimenb\n",
    "arr_primenum(arr7)\n"
   ]
  },
  {
   "cell_type": "code",
   "execution_count": 109,
   "metadata": {},
   "outputs": [
    {
     "data": {
      "text/plain": [
       "array([[4, 3, 6],\n",
       "       [4, 6, 4],\n",
       "       [7, 7, 5]])"
      ]
     },
     "execution_count": 109,
     "metadata": {},
     "output_type": "execute_result"
    }
   ],
   "source": [
    "# 10.\n",
    "\n",
    "arr2D = np.random.randint(1, 10, size = (3, 3))\n",
    "arr2D"
   ]
  },
  {
   "cell_type": "markdown",
   "metadata": {},
   "source": [
    "### Partie Graphique"
   ]
  },
  {
   "cell_type": "code",
   "execution_count": 110,
   "metadata": {},
   "outputs": [],
   "source": [
    "import numpy as np\n",
    "import matplotlib.pyplot as plt"
   ]
  },
  {
   "cell_type": "code",
   "execution_count": 111,
   "metadata": {},
   "outputs": [],
   "source": [
    "# 1.\n",
    "\n"
   ]
  }
 ],
 "metadata": {
  "kernelspec": {
   "display_name": "base",
   "language": "python",
   "name": "python3"
  },
  "language_info": {
   "codemirror_mode": {
    "name": "ipython",
    "version": 3
   },
   "file_extension": ".py",
   "mimetype": "text/x-python",
   "name": "python",
   "nbconvert_exporter": "python",
   "pygments_lexer": "ipython3",
   "version": "3.12.4"
  }
 },
 "nbformat": 4,
 "nbformat_minor": 2
}
