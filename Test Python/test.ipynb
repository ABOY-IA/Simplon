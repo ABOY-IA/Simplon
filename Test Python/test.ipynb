{
 "cells": [
  {
   "cell_type": "code",
   "execution_count": null,
   "metadata": {},
   "outputs": [],
   "source": [
    "a = 1\n",
    "a\n"
   ]
  },
  {
   "cell_type": "code",
   "execution_count": null,
   "metadata": {},
   "outputs": [],
   "source": [
    "print(\"=\"*20)\n",
    "print(\"== TOTO ==\")\n",
    "print(\"=\"*20)\n"
   ]
  },
  {
   "cell_type": "code",
   "execution_count": null,
   "metadata": {},
   "outputs": [],
   "source": [
    "if a == \"toto\":\n",
    "    print(\"\")\n",
    "else:\n",
    "    print(\"toto\")\n",
    "    "
   ]
  },
  {
   "cell_type": "code",
   "execution_count": null,
   "metadata": {},
   "outputs": [],
   "source": [
    "b = set(\"anticonstitutionnellement\")\n",
    "print(b)\n",
    "c = set(\"bonjour\" \"je\" \"m'appelle\" \"Pierre\" \"Pierre\" \",\" \"et\" \"mon\" \"surnom\" \"est\" \"bonjour\")\n",
    "print(c)\n"
   ]
  },
  {
   "cell_type": "code",
   "execution_count": null,
   "metadata": {},
   "outputs": [],
   "source": [
    "nom = \"toto\"\n",
    "\n",
    "if nom == \"tata\":\n",
    "    pass\n",
    "elif nom == \"tutu\":\n",
    "    pass\n",
    "elif nom == \"toto\":\n",
    "    print(\"if elif\", \"\\t\", nom)\n",
    "    print(\"=\"*80)\n",
    "    \n",
    "\n",
    "match nom:\n",
    "    case \"tata\":\n",
    "        pass\n",
    "    case \"tutu\":\n",
    "        pass\n",
    "    case \"toto\":\n",
    "        print(\"match\",\"\\n\",nom,\"\\n\",\"bipboup\",\"\\t\",\"bapbap\")\n",
    "\n"
   ]
  },
  {
   "cell_type": "code",
   "execution_count": null,
   "metadata": {},
   "outputs": [],
   "source": [
    "var1 = \"Fizz\"\n",
    "var2 = \"Buzz\"\n",
    "title = \"Flash\"\n",
    "print(f'{var1 :=^9} {var2 :=^20}') # ^ pour centrer la variable sur une chaine de 9 ou 20 caractères et remplace les espaces(caractère vide) par =\n",
    "print(f'{var1 :=>20} {var2 :=<13}') # > pour placer à droite de la chaine\n",
    "print(f'{var1 :=<20} {var2 :=>20}') # < pour placer à gauche de la chaine\n",
    "print(f'{title :*^80}')\n"
   ]
  },
  {
   "cell_type": "code",
   "execution_count": null,
   "metadata": {},
   "outputs": [],
   "source": [
    "for i in range(0,11,2):\n",
    "    print(i)\n",
    "\n",
    "import numpy as np\n",
    "np.arange(0,10,0.5) # pour faire un pas avec un float obligé d'impoter numpy\n"
   ]
  },
  {
   "cell_type": "code",
   "execution_count": null,
   "metadata": {},
   "outputs": [],
   "source": [
    "i = 4\n",
    "while i <= 10:\n",
    "    i += 1\n",
    "    print(i)\n"
   ]
  },
  {
   "cell_type": "code",
   "execution_count": null,
   "metadata": {},
   "outputs": [],
   "source": [
    "import numpy as np\n",
    "\n",
    "np.random.rand()\n",
    "#ou:\n",
    "#from numpy.random import rand as nprand\n",
    "\n",
    "tutu = 1\n",
    "while tutu > 0.5:\n",
    "    print(tutu)\n",
    "    # tutu = nprand()\n",
    "    tutu = np.random.rand()\n",
    "\n",
    "print(\"fin\", tutu)"
   ]
  },
  {
   "cell_type": "code",
   "execution_count": null,
   "metadata": {},
   "outputs": [],
   "source": [
    "def my_max(x):\n",
    "    \"\"\"\n",
    "    x: array\n",
    "    return the max of the list\n",
    "\n",
    "    \"\"\"\n",
    "    the_max = x[0]\n",
    "    index = 0\n",
    "    for ind in range(1,len(x)):\n",
    "        if the_max < x[ind]:\n",
    "            the_max = x[ind]\n",
    "            index = ind\n",
    "    return the_max, index\n",
    "\n",
    "if __name__ == \"__main__\":\n",
    "    m, i = my_max([1, 2, 3, -10000])\n",
    "    print(m, i)"
   ]
  },
  {
   "cell_type": "code",
   "execution_count": null,
   "metadata": {},
   "outputs": [],
   "source": [
    "#1er mot avec voyelle au début et ne continue plus, demander pourquoi.\n",
    "def mot_commence_voyelle(ma_liste):\n",
    "    vowels = [\"a\", \"e\", \"i\", \"o\", \"u\", \"y\"]\n",
    "    liste_voyelle = []\n",
    "    x = 0\n",
    "    for word in ma_liste:\n",
    "        if word[0].lower() != vowels[x]:\n",
    "            vowels[x+1]\n",
    "        else:\n",
    "            liste_voyelle.append(word)\n",
    "    return liste_voyelle\n",
    "ma_liste = [\"abracadabra\", \"banane\", \"soubrette\", \"italienne\", \"utopie\"]\n",
    "print(mot_commence_voyelle(ma_liste))"
   ]
  },
  {
   "cell_type": "code",
   "execution_count": null,
   "metadata": {},
   "outputs": [],
   "source": [
    "#1ère version corrigée, améliorée dans la suivante:\n",
    "def mot_commence_voyelle(ma_liste):\n",
    "    vowels = [\"a\", \"e\", \"i\", \"o\", \"u\", \"y\"]\n",
    "    liste_voyelle = []\n",
    "    for word in ma_liste:\n",
    "        for vowel in vowels:\n",
    "            if word[0].lower() == vowel:\n",
    "                liste_voyelle.append(word)\n",
    "                break\n",
    "    return liste_voyelle\n",
    "ma_liste = [\"abracadabra\", \"banane\", \"soubrette\", \"italienne\", \"utopie\"]\n",
    "print(mot_commence_voyelle(ma_liste))"
   ]
  },
  {
   "cell_type": "code",
   "execution_count": null,
   "metadata": {},
   "outputs": [],
   "source": [
    "#Version améliorée:\n",
    "def mot_commence_voyelle(ma_liste):\n",
    "    vowels = [\"a\", \"e\", \"i\", \"o\", \"u\", \"y\"]\n",
    "    liste_voyelle = []\n",
    "    for word in ma_liste:\n",
    "        if word[0].lower() in vowels:\n",
    "            liste_voyelle.append(word)\n",
    "    return liste_voyelle\n",
    "ma_liste = [\"abracadabra\", \"banane\", \"soubrette\", \"italienne\", \"utopie\"]\n",
    "print(mot_commence_voyelle(ma_liste))"
   ]
  },
  {
   "cell_type": "code",
   "execution_count": null,
   "metadata": {},
   "outputs": [],
   "source": [
    "#Version avec input:\n",
    "def mot_commence_voyelle():\n",
    "    ma_liste = input(\"Entrez une liste de mots séparés par des espaces: \").split()\n",
    "    vowels = [\"a\", \"e\", \"i\", \"o\", \"u\", \"y\"]\n",
    "    liste_voyelle = []\n",
    "    for word in ma_liste:\n",
    "        if word[0].lower() in vowels:\n",
    "            liste_voyelle.append(word)\n",
    "    return liste_voyelle\n",
    "print(mot_commence_voyelle())"
   ]
  }
 ],
 "metadata": {
  "kernelspec": {
   "display_name": "base",
   "language": "python",
   "name": "python3"
  },
  "language_info": {
   "codemirror_mode": {
    "name": "ipython",
    "version": 3
   },
   "file_extension": ".py",
   "mimetype": "text/x-python",
   "name": "python",
   "nbconvert_exporter": "python",
   "pygments_lexer": "ipython3",
   "version": "3.12.4"
  }
 },
 "nbformat": 4,
 "nbformat_minor": 2
}
