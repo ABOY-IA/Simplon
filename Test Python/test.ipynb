{
 "cells": [
  {
   "cell_type": "code",
   "execution_count": null,
   "metadata": {},
   "outputs": [],
   "source": [
    "a = 1\n",
    "a\n"
   ]
  },
  {
   "cell_type": "code",
   "execution_count": null,
   "metadata": {},
   "outputs": [],
   "source": [
    "print(\"=\"*20)\n",
    "print(\"== TOTO ==\")\n",
    "print(\"=\"*20)\n"
   ]
  },
  {
   "cell_type": "code",
   "execution_count": null,
   "metadata": {},
   "outputs": [],
   "source": [
    "if a == \"toto\":\n",
    "    print(\"\")\n",
    "else:\n",
    "    print(\"toto\")\n",
    "    "
   ]
  },
  {
   "cell_type": "code",
   "execution_count": null,
   "metadata": {},
   "outputs": [],
   "source": [
    "b = set(\"anticonstitutionnellement\")\n",
    "print(b)\n",
    "c = set(\"bonjour\" \"je\" \"m'appelle\" \"Pierre\" \"Pierre\" \",\" \"et\" \"mon\" \"surnom\" \"est\" \"bonjour\")\n",
    "print(c)\n"
   ]
  },
  {
   "cell_type": "code",
   "execution_count": null,
   "metadata": {},
   "outputs": [],
   "source": [
    "nom = \"toto\"\n",
    "\n",
    "if nom == \"tata\":\n",
    "    pass\n",
    "elif nom == \"tutu\":\n",
    "    pass\n",
    "elif nom == \"toto\":\n",
    "    print(\"if elif\", \"\\t\", nom)\n",
    "    print(\"=\"*80)\n",
    "    \n",
    "\n",
    "match nom:\n",
    "    case \"tata\":\n",
    "        pass\n",
    "    case \"tutu\":\n",
    "        pass\n",
    "    case \"toto\":\n",
    "        print(\"match\",\"\\n\",nom,\"\\n\",\"bipboup\",\"\\t\",\"bapbap\")\n",
    "\n"
   ]
  },
  {
   "cell_type": "code",
   "execution_count": null,
   "metadata": {},
   "outputs": [],
   "source": [
    "var1 = \"Fizz\"\n",
    "var2 = \"Buzz\"\n",
    "title = \"Flash\"\n",
    "print(f'{var1 :=^9} {var2 :=^20}') # ^ pour centrer la variable sur une chaine de 9 ou 20 caractères et remplace les espaces(caractère vide) par =\n",
    "print(f'{var1 :=>20} {var2 :=<13}') # > pour placer à droite de la chaine\n",
    "print(f'{var1 :=<20} {var2 :=>20}') # < pour placer à gauche de la chaine\n",
    "print(f'{title :*^80}')\n"
   ]
  },
  {
   "cell_type": "code",
   "execution_count": null,
   "metadata": {},
   "outputs": [],
   "source": [
    "for i in range(0,11,2):\n",
    "    print(i)\n",
    "\n",
    "import numpy as np\n",
    "np.arange(0,10,0.5) # pour faire un pas avec un float obligé d'impoter numpy\n"
   ]
  },
  {
   "cell_type": "code",
   "execution_count": null,
   "metadata": {},
   "outputs": [],
   "source": [
    "i = 4\n",
    "while i <= 10:\n",
    "    i += 1\n",
    "    print(i)\n"
   ]
  },
  {
   "cell_type": "code",
   "execution_count": 46,
   "metadata": {},
   "outputs": [
    {
     "name": "stdout",
     "output_type": "stream",
     "text": [
      "1\n",
      "fin 0.1139671733521912\n"
     ]
    }
   ],
   "source": [
    "import numpy as np\n",
    "\n",
    "np.random.rand()\n",
    "\n",
    "from numpy.random import rand as nprand\n",
    "\n",
    "tutu = 1\n",
    "while tutu > 0.5:\n",
    "    print(tutu)\n",
    "    tutu = nprand()\n",
    "\n",
    "print(\"fin\", tutu)"
   ]
  }
 ],
 "metadata": {
  "kernelspec": {
   "display_name": "base",
   "language": "python",
   "name": "python3"
  },
  "language_info": {
   "codemirror_mode": {
    "name": "ipython",
    "version": 3
   },
   "file_extension": ".py",
   "mimetype": "text/x-python",
   "name": "python",
   "nbconvert_exporter": "python",
   "pygments_lexer": "ipython3",
   "version": "3.12.4"
  }
 },
 "nbformat": 4,
 "nbformat_minor": 2
}
